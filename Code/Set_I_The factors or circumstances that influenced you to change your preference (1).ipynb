{
 "cells": [
  {
   "cell_type": "code",
   "execution_count": 1,
   "id": "5efff0a5",
   "metadata": {},
   "outputs": [],
   "source": [
    "import pandas as pd\n",
    "import numpy as np\n",
    "import matplotlib.pyplot as plt\n",
    "import re"
   ]
  },
  {
   "cell_type": "code",
   "execution_count": 2,
   "id": "695717cf",
   "metadata": {},
   "outputs": [],
   "source": [
    "data=pd.read_csv(\"C:\\\\Users\\\\anupa\\\\OneDrive - vit.ac.in\\\\Notebooks\\\\PROJECTS\\\\SET\\\\SURVEY ON INDIAN EDUCATION SYSTEM.csv\")"
   ]
  },
  {
   "cell_type": "code",
   "execution_count": 3,
   "id": "5ee8e119",
   "metadata": {},
   "outputs": [],
   "source": [
    "df=pd.DataFrame(data)"
   ]
  },
  {
   "cell_type": "code",
   "execution_count": 4,
   "id": "76e46550",
   "metadata": {},
   "outputs": [
    {
     "data": {
      "text/html": [
       "<div>\n",
       "<style scoped>\n",
       "    .dataframe tbody tr th:only-of-type {\n",
       "        vertical-align: middle;\n",
       "    }\n",
       "\n",
       "    .dataframe tbody tr th {\n",
       "        vertical-align: top;\n",
       "    }\n",
       "\n",
       "    .dataframe thead th {\n",
       "        text-align: right;\n",
       "    }\n",
       "</style>\n",
       "<table border=\"1\" class=\"dataframe\">\n",
       "  <thead>\n",
       "    <tr style=\"text-align: right;\">\n",
       "      <th></th>\n",
       "      <th>What are the factors or circumstances that influenced you to change your preference?</th>\n",
       "    </tr>\n",
       "  </thead>\n",
       "  <tbody>\n",
       "    <tr>\n",
       "      <th>0</th>\n",
       "      <td>I felt that, I can do courses later, or come u...</td>\n",
       "    </tr>\n",
       "    <tr>\n",
       "      <th>1</th>\n",
       "      <td>More employment opportunities</td>\n",
       "    </tr>\n",
       "    <tr>\n",
       "      <th>2</th>\n",
       "      <td>Brutal competition</td>\n",
       "    </tr>\n",
       "    <tr>\n",
       "      <th>3</th>\n",
       "      <td>The competitive atmosphere around me, and the ...</td>\n",
       "    </tr>\n",
       "    <tr>\n",
       "      <th>4</th>\n",
       "      <td>Less medical seats</td>\n",
       "    </tr>\n",
       "  </tbody>\n",
       "</table>\n",
       "</div>"
      ],
      "text/plain": [
       "  What are the factors or circumstances that influenced you to change your preference? \n",
       "0  I felt that, I can do courses later, or come u...                                   \n",
       "1                      More employment opportunities                                   \n",
       "2                                 Brutal competition                                   \n",
       "3  The competitive atmosphere around me, and the ...                                   \n",
       "4                                 Less medical seats                                   "
      ]
     },
     "execution_count": 4,
     "metadata": {},
     "output_type": "execute_result"
    }
   ],
   "source": [
    "# Create new pandas DataFrame.\n",
    "df2 = df[[\"What are the factors or circumstances that influenced you to change your preference? \"]]\n",
    "df2.head()"
   ]
  },
  {
   "cell_type": "code",
   "execution_count": 5,
   "id": "d11958d0",
   "metadata": {},
   "outputs": [
    {
     "name": "stdout",
     "output_type": "stream",
     "text": [
      "0      I felt that I can do courses later or come up ...\n",
      "1                          More employment opportunities\n",
      "2                                     Brutal competition\n",
      "3      The competitive atmosphere around me and the n...\n",
      "4                                     Less medical seats\n",
      "                             ...                        \n",
      "141                                              Nothing\n",
      "142         There was no facts I liked both the subjects\n",
      "143                                              Nothing\n",
      "144                       I didn t change my preference \n",
      "145                                           Not arise \n",
      "Name: Cleaned Reviews, Length: 146, dtype: object\n"
     ]
    },
    {
     "name": "stderr",
     "output_type": "stream",
     "text": [
      "<ipython-input-5-4b2c055553d9>:9: SettingWithCopyWarning: \n",
      "A value is trying to be set on a copy of a slice from a DataFrame.\n",
      "Try using .loc[row_indexer,col_indexer] = value instead\n",
      "\n",
      "See the caveats in the documentation: https://pandas.pydata.org/pandas-docs/stable/user_guide/indexing.html#returning-a-view-versus-a-copy\n",
      "  df2['Cleaned Reviews'] = df2[\"What are the factors or circumstances that influenced you to change your preference? \"].dropna().apply(clean).astype(str)\n"
     ]
    }
   ],
   "source": [
    "# Step 1: Cleaning the text\n",
    "# Define a function to clean the text\n",
    "def clean(text):\n",
    "# Removes all special characters and numericals leaving the alphabets\n",
    "    text = re.sub('[^A-Za-z]+', ' ', text)\n",
    "    return text\n",
    "\n",
    "# Cleaning the text in the review column\n",
    "df2['Cleaned Reviews'] = df2[\"What are the factors or circumstances that influenced you to change your preference? \"].dropna().apply(clean).astype(str)\n",
    "print(df2['Cleaned Reviews'])"
   ]
  },
  {
   "cell_type": "code",
   "execution_count": 6,
   "id": "22df1c69",
   "metadata": {},
   "outputs": [
    {
     "name": "stderr",
     "output_type": "stream",
     "text": [
      "[nltk_data] Downloading package punkt to\n",
      "[nltk_data]     C:\\Users\\anupa\\AppData\\Roaming\\nltk_data...\n",
      "[nltk_data]   Package punkt is already up-to-date!\n",
      "[nltk_data] Downloading package stopwords to\n",
      "[nltk_data]     C:\\Users\\anupa\\AppData\\Roaming\\nltk_data...\n",
      "[nltk_data]   Package stopwords is already up-to-date!\n",
      "[nltk_data] Downloading package wordnet to\n",
      "[nltk_data]     C:\\Users\\anupa\\AppData\\Roaming\\nltk_data...\n",
      "[nltk_data]   Package wordnet is already up-to-date!\n",
      "[nltk_data] Downloading package averaged_perceptron_tagger to\n",
      "[nltk_data]     C:\\Users\\anupa\\AppData\\Roaming\\nltk_data...\n",
      "[nltk_data]   Package averaged_perceptron_tagger is already up-to-\n",
      "[nltk_data]       date!\n"
     ]
    },
    {
     "data": {
      "text/plain": [
       "True"
      ]
     },
     "execution_count": 6,
     "metadata": {},
     "output_type": "execute_result"
    }
   ],
   "source": [
    "# Step 2: Tokenization\n",
    "import nltk\n",
    "nltk.download('punkt')\n",
    "from nltk.tokenize import word_tokenize\n",
    "from nltk import pos_tag\n",
    "nltk.download('stopwords')\n",
    "from nltk.corpus import stopwords\n",
    "nltk.download('wordnet')\n",
    "from nltk.corpus import wordnet\n",
    "\n",
    "import nltk\n",
    "nltk.download('averaged_perceptron_tagger')"
   ]
  },
  {
   "cell_type": "code",
   "execution_count": 7,
   "id": "530a84b4",
   "metadata": {},
   "outputs": [
    {
     "name": "stdout",
     "output_type": "stream",
     "text": [
      "Requirement already satisfied: textblob in c:\\users\\anupa\\anaconda3\\lib\\site-packages (0.17.1)\n",
      "Requirement already satisfied: nltk>=3.1 in c:\\users\\anupa\\anaconda3\\lib\\site-packages (from textblob) (3.6.1)\n",
      "Requirement already satisfied: joblib in c:\\users\\anupa\\anaconda3\\lib\\site-packages (from nltk>=3.1->textblob) (1.0.1)\n",
      "Requirement already satisfied: tqdm in c:\\users\\anupa\\anaconda3\\lib\\site-packages (from nltk>=3.1->textblob) (4.59.0)\n",
      "Requirement already satisfied: regex in c:\\users\\anupa\\anaconda3\\lib\\site-packages (from nltk>=3.1->textblob) (2021.4.4)\n",
      "Requirement already satisfied: click in c:\\users\\anupa\\anaconda3\\lib\\site-packages (from nltk>=3.1->textblob) (7.1.2)\n"
     ]
    }
   ],
   "source": [
    "get_ipython().system('pip install -U textblob')"
   ]
  },
  {
   "cell_type": "code",
   "execution_count": 8,
   "id": "92e52173",
   "metadata": {},
   "outputs": [
    {
     "name": "stdout",
     "output_type": "stream",
     "text": [
      "  What are the factors or circumstances that influenced you to change your preference?   \\\n",
      "0  I felt that, I can do courses later, or come u...                                      \n",
      "1                      More employment opportunities                                      \n",
      "2                                 Brutal competition                                      \n",
      "3  The competitive atmosphere around me, and the ...                                      \n",
      "4                                 Less medical seats                                      \n",
      "\n",
      "                                     Cleaned Reviews  \n",
      "0  I felt that I can do courses later or come up ...  \n",
      "1                      More employment opportunities  \n",
      "2                                 Brutal competition  \n",
      "3  The competitive atmosphere around me and the n...  \n",
      "4                                 Less medical seats  \n"
     ]
    }
   ],
   "source": [
    "print(df2.head())"
   ]
  },
  {
   "cell_type": "code",
   "execution_count": null,
   "id": "8486ffe3",
   "metadata": {},
   "outputs": [],
   "source": []
  },
  {
   "cell_type": "code",
   "execution_count": null,
   "id": "ab03bca6",
   "metadata": {},
   "outputs": [],
   "source": []
  },
  {
   "cell_type": "code",
   "execution_count": 9,
   "id": "d89841f7",
   "metadata": {},
   "outputs": [],
   "source": [
    "# POS tagger dictionary\n",
    "\n",
    "from textblob import TextBlob\n",
    "\n",
    "pos_dict = {'J':wordnet.ADJ, 'V':wordnet.VERB, 'N':wordnet.NOUN, 'R':wordnet.ADV}\n",
    "def pos_tagger(sentence):\n",
    "    sent = TextBlob(sentence)\n",
    "    tag_dict = {\"J\": 'a', \"N\": 'n', \"V\": 'v', \"R\": 'r'}\n",
    "    words_tags = [(w, tag_dict.get(pos[0], 'n')) for w, pos in sent.tags]   \n",
    "    lemma_list = [wd.lemmatize(tag) for wd, tag in words_tags]\n",
    "    return lemma_list"
   ]
  },
  {
   "cell_type": "code",
   "execution_count": 10,
   "id": "32f4b45b",
   "metadata": {},
   "outputs": [
    {
     "name": "stdout",
     "output_type": "stream",
     "text": [
      "0      [I, felt, that, I, can, do, course, later, or,...\n",
      "1                        [More, employment, opportunity]\n",
      "2                                  [Brutal, competition]\n",
      "3      [The, competitive, atmosphere, around, me, and...\n",
      "4                                  [Less, medical, seat]\n",
      "                             ...                        \n",
      "141                                            [Nothing]\n",
      "142    [There, be, no, fact, I, like, both, the, subj...\n",
      "143                                            [Nothing]\n",
      "144                 [I, didn, t, change, my, preference]\n",
      "145                                         [Not, arise]\n",
      "Name: POS tagged, Length: 146, dtype: object\n"
     ]
    },
    {
     "name": "stderr",
     "output_type": "stream",
     "text": [
      "<ipython-input-10-f813ca82a9a8>:1: SettingWithCopyWarning: \n",
      "A value is trying to be set on a copy of a slice from a DataFrame.\n",
      "Try using .loc[row_indexer,col_indexer] = value instead\n",
      "\n",
      "See the caveats in the documentation: https://pandas.pydata.org/pandas-docs/stable/user_guide/indexing.html#returning-a-view-versus-a-copy\n",
      "  df2['POS tagged'] = df2['Cleaned Reviews'].dropna().apply(pos_tagger)\n"
     ]
    }
   ],
   "source": [
    "df2['POS tagged'] = df2['Cleaned Reviews'].dropna().apply(pos_tagger)\n",
    "print(df2['POS tagged'])"
   ]
  },
  {
   "cell_type": "code",
   "execution_count": 11,
   "id": "7a7ce2ee",
   "metadata": {},
   "outputs": [
    {
     "name": "stdout",
     "output_type": "stream",
     "text": [
      "0      [(felt, v), (course, n), (later, r), (come, v)...\n",
      "1                    [(employment, n), (opportunity, n)]\n",
      "2                        [(Brutal, a), (competition, n)]\n",
      "3      [(competitive, a), (atmosphere, n), (around, N...\n",
      "4                   [(Less, n), (medical, a), (seat, n)]\n",
      "                             ...                        \n",
      "141                                       [(Nothing, n)]\n",
      "142              [(fact, n), (like, None), (subject, n)]\n",
      "143                                       [(Nothing, n)]\n",
      "144                       [(change, n), (preference, n)]\n",
      "145                                         [(arise, v)]\n",
      "Name: POS stopword, Length: 146, dtype: object\n"
     ]
    },
    {
     "name": "stderr",
     "output_type": "stream",
     "text": [
      "<ipython-input-11-2e8cf464899f>:10: SettingWithCopyWarning: \n",
      "A value is trying to be set on a copy of a slice from a DataFrame.\n",
      "Try using .loc[row_indexer,col_indexer] = value instead\n",
      "\n",
      "See the caveats in the documentation: https://pandas.pydata.org/pandas-docs/stable/user_guide/indexing.html#returning-a-view-versus-a-copy\n",
      "  df2['POS stopword']=df2['POS tagged'].dropna().apply(token_stop_pos)\n"
     ]
    }
   ],
   "source": [
    "def token_stop_pos(list1):\n",
    "    tags=pos_tag(list1)\n",
    "    newlist = []\n",
    "    for word, tag in tags :\n",
    "        if word.lower() not in set(stopwords.words('english')):\n",
    "            newlist.append(tuple([word, pos_dict.get(tag[0])]))\n",
    "    return newlist\n",
    "\n",
    "\n",
    "df2['POS stopword']=df2['POS tagged'].dropna().apply(token_stop_pos)\n",
    "print(df2['POS stopword'])\n"
   ]
  },
  {
   "cell_type": "code",
   "execution_count": 12,
   "id": "f0016e7a",
   "metadata": {},
   "outputs": [
    {
     "name": "stderr",
     "output_type": "stream",
     "text": [
      "<ipython-input-12-088efdd1ecab>:14: SettingWithCopyWarning: \n",
      "A value is trying to be set on a copy of a slice from a DataFrame.\n",
      "Try using .loc[row_indexer,col_indexer] = value instead\n",
      "\n",
      "See the caveats in the documentation: https://pandas.pydata.org/pandas-docs/stable/user_guide/indexing.html#returning-a-view-versus-a-copy\n",
      "  df2['Lemma'] = df2['POS stopword'].dropna().apply(lemmatize)\n"
     ]
    },
    {
     "data": {
      "text/html": [
       "<div>\n",
       "<style scoped>\n",
       "    .dataframe tbody tr th:only-of-type {\n",
       "        vertical-align: middle;\n",
       "    }\n",
       "\n",
       "    .dataframe tbody tr th {\n",
       "        vertical-align: top;\n",
       "    }\n",
       "\n",
       "    .dataframe thead th {\n",
       "        text-align: right;\n",
       "    }\n",
       "</style>\n",
       "<table border=\"1\" class=\"dataframe\">\n",
       "  <thead>\n",
       "    <tr style=\"text-align: right;\">\n",
       "      <th></th>\n",
       "      <th>What are the factors or circumstances that influenced you to change your preference?</th>\n",
       "      <th>Cleaned Reviews</th>\n",
       "      <th>POS tagged</th>\n",
       "      <th>POS stopword</th>\n",
       "      <th>Lemma</th>\n",
       "    </tr>\n",
       "  </thead>\n",
       "  <tbody>\n",
       "    <tr>\n",
       "      <th>0</th>\n",
       "      <td>I felt that, I can do courses later, or come u...</td>\n",
       "      <td>I felt that I can do courses later or come up ...</td>\n",
       "      <td>[I, felt, that, I, can, do, course, later, or,...</td>\n",
       "      <td>[(felt, v), (course, n), (later, r), (come, v)...</td>\n",
       "      <td>felt course later come theory Mathematics ta...</td>\n",
       "    </tr>\n",
       "    <tr>\n",
       "      <th>1</th>\n",
       "      <td>More employment opportunities</td>\n",
       "      <td>More employment opportunities</td>\n",
       "      <td>[More, employment, opportunity]</td>\n",
       "      <td>[(employment, n), (opportunity, n)]</td>\n",
       "      <td>employment opportunity</td>\n",
       "    </tr>\n",
       "    <tr>\n",
       "      <th>2</th>\n",
       "      <td>Brutal competition</td>\n",
       "      <td>Brutal competition</td>\n",
       "      <td>[Brutal, competition]</td>\n",
       "      <td>[(Brutal, a), (competition, n)]</td>\n",
       "      <td>Brutal competition</td>\n",
       "    </tr>\n",
       "    <tr>\n",
       "      <th>3</th>\n",
       "      <td>The competitive atmosphere around me, and the ...</td>\n",
       "      <td>The competitive atmosphere around me and the n...</td>\n",
       "      <td>[The, competitive, atmosphere, around, me, and...</td>\n",
       "      <td>[(competitive, a), (atmosphere, n), (around, N...</td>\n",
       "      <td>competitive atmosphere around need top succeed</td>\n",
       "    </tr>\n",
       "    <tr>\n",
       "      <th>4</th>\n",
       "      <td>Less medical seats</td>\n",
       "      <td>Less medical seats</td>\n",
       "      <td>[Less, medical, seat]</td>\n",
       "      <td>[(Less, n), (medical, a), (seat, n)]</td>\n",
       "      <td>Less medical seat</td>\n",
       "    </tr>\n",
       "  </tbody>\n",
       "</table>\n",
       "</div>"
      ],
      "text/plain": [
       "  What are the factors or circumstances that influenced you to change your preference?   \\\n",
       "0  I felt that, I can do courses later, or come u...                                      \n",
       "1                      More employment opportunities                                      \n",
       "2                                 Brutal competition                                      \n",
       "3  The competitive atmosphere around me, and the ...                                      \n",
       "4                                 Less medical seats                                      \n",
       "\n",
       "                                     Cleaned Reviews  \\\n",
       "0  I felt that I can do courses later or come up ...   \n",
       "1                      More employment opportunities   \n",
       "2                                 Brutal competition   \n",
       "3  The competitive atmosphere around me and the n...   \n",
       "4                                 Less medical seats   \n",
       "\n",
       "                                          POS tagged  \\\n",
       "0  [I, felt, that, I, can, do, course, later, or,...   \n",
       "1                    [More, employment, opportunity]   \n",
       "2                              [Brutal, competition]   \n",
       "3  [The, competitive, atmosphere, around, me, and...   \n",
       "4                              [Less, medical, seat]   \n",
       "\n",
       "                                        POS stopword  \\\n",
       "0  [(felt, v), (course, n), (later, r), (come, v)...   \n",
       "1                [(employment, n), (opportunity, n)]   \n",
       "2                    [(Brutal, a), (competition, n)]   \n",
       "3  [(competitive, a), (atmosphere, n), (around, N...   \n",
       "4               [(Less, n), (medical, a), (seat, n)]   \n",
       "\n",
       "                                               Lemma  \n",
       "0    felt course later come theory Mathematics ta...  \n",
       "1                             employment opportunity  \n",
       "2                                 Brutal competition  \n",
       "3     competitive atmosphere around need top succeed  \n",
       "4                                  Less medical seat  "
      ]
     },
     "execution_count": 12,
     "metadata": {},
     "output_type": "execute_result"
    }
   ],
   "source": [
    "from nltk.stem import WordNetLemmatizer\n",
    "wordnet_lemmatizer = WordNetLemmatizer()\n",
    "def lemmatize(pos_data):\n",
    "    lemma_rew = \" \"\n",
    "    for word, pos in pos_data:\n",
    "        if not pos:\n",
    "            lemma = word\n",
    "            lemma_rew = lemma_rew + \" \" + lemma\n",
    "        else:\n",
    "            lemma = wordnet_lemmatizer.lemmatize(word, pos=pos)\n",
    "            lemma_rew = lemma_rew + \" \" + lemma\n",
    "    return lemma_rew\n",
    "\n",
    "df2['Lemma'] = df2['POS stopword'].dropna().apply(lemmatize)\n",
    "df2.head()"
   ]
  },
  {
   "cell_type": "code",
   "execution_count": 32,
   "id": "4e9cc381",
   "metadata": {},
   "outputs": [
    {
     "name": "stdout",
     "output_type": "stream",
     "text": [
      "success\n"
     ]
    }
   ],
   "source": [
    "file_name='Lemma_factors_for_pref.xlsx'\n",
    "pd.DataFrame(df2['Lemma'].to_excel(file_name))\n",
    "print(\"success\")"
   ]
  },
  {
   "cell_type": "code",
   "execution_count": 14,
   "id": "d7af4b48",
   "metadata": {},
   "outputs": [
    {
     "name": "stderr",
     "output_type": "stream",
     "text": [
      "<ipython-input-14-0ffc8947ad6a>:7: SettingWithCopyWarning: \n",
      "A value is trying to be set on a copy of a slice from a DataFrame.\n",
      "Try using .loc[row_indexer,col_indexer] = value instead\n",
      "\n",
      "See the caveats in the documentation: https://pandas.pydata.org/pandas-docs/stable/user_guide/indexing.html#returning-a-view-versus-a-copy\n",
      "  df2['TextBlob_Subjectivity'] =  df2['Lemma'].dropna().apply(getSubjectivity)\n",
      "<ipython-input-14-0ffc8947ad6a>:8: SettingWithCopyWarning: \n",
      "A value is trying to be set on a copy of a slice from a DataFrame.\n",
      "Try using .loc[row_indexer,col_indexer] = value instead\n",
      "\n",
      "See the caveats in the documentation: https://pandas.pydata.org/pandas-docs/stable/user_guide/indexing.html#returning-a-view-versus-a-copy\n",
      "  df2['TextBlob_Polarity'] = df2['Lemma'].dropna().apply(getPolarity)\n",
      "<ipython-input-14-0ffc8947ad6a>:16: SettingWithCopyWarning: \n",
      "A value is trying to be set on a copy of a slice from a DataFrame.\n",
      "Try using .loc[row_indexer,col_indexer] = value instead\n",
      "\n",
      "See the caveats in the documentation: https://pandas.pydata.org/pandas-docs/stable/user_guide/indexing.html#returning-a-view-versus-a-copy\n",
      "  df2['TextBlob_Analysis'] = df2['TextBlob_Polarity'].dropna().apply(getAnalysis )\n"
     ]
    },
    {
     "data": {
      "text/html": [
       "<div>\n",
       "<style scoped>\n",
       "    .dataframe tbody tr th:only-of-type {\n",
       "        vertical-align: middle;\n",
       "    }\n",
       "\n",
       "    .dataframe tbody tr th {\n",
       "        vertical-align: top;\n",
       "    }\n",
       "\n",
       "    .dataframe thead th {\n",
       "        text-align: right;\n",
       "    }\n",
       "</style>\n",
       "<table border=\"1\" class=\"dataframe\">\n",
       "  <thead>\n",
       "    <tr style=\"text-align: right;\">\n",
       "      <th></th>\n",
       "      <th>What are the factors or circumstances that influenced you to change your preference?</th>\n",
       "      <th>Cleaned Reviews</th>\n",
       "      <th>POS tagged</th>\n",
       "      <th>POS stopword</th>\n",
       "      <th>Lemma</th>\n",
       "      <th>TextBlob_Subjectivity</th>\n",
       "      <th>TextBlob_Polarity</th>\n",
       "      <th>TextBlob_Analysis</th>\n",
       "    </tr>\n",
       "  </thead>\n",
       "  <tbody>\n",
       "    <tr>\n",
       "      <th>0</th>\n",
       "      <td>I felt that, I can do courses later, or come u...</td>\n",
       "      <td>I felt that I can do courses later or come up ...</td>\n",
       "      <td>[I, felt, that, I, can, do, course, later, or,...</td>\n",
       "      <td>[(felt, v), (course, n), (later, r), (come, v)...</td>\n",
       "      <td>felt course later come theory Mathematics ta...</td>\n",
       "      <td>0.000000</td>\n",
       "      <td>0.000000</td>\n",
       "      <td>Neutral</td>\n",
       "    </tr>\n",
       "    <tr>\n",
       "      <th>1</th>\n",
       "      <td>More employment opportunities</td>\n",
       "      <td>More employment opportunities</td>\n",
       "      <td>[More, employment, opportunity]</td>\n",
       "      <td>[(employment, n), (opportunity, n)]</td>\n",
       "      <td>employment opportunity</td>\n",
       "      <td>0.000000</td>\n",
       "      <td>0.000000</td>\n",
       "      <td>Neutral</td>\n",
       "    </tr>\n",
       "    <tr>\n",
       "      <th>2</th>\n",
       "      <td>Brutal competition</td>\n",
       "      <td>Brutal competition</td>\n",
       "      <td>[Brutal, competition]</td>\n",
       "      <td>[(Brutal, a), (competition, n)]</td>\n",
       "      <td>Brutal competition</td>\n",
       "      <td>1.000000</td>\n",
       "      <td>-0.875000</td>\n",
       "      <td>Negative</td>\n",
       "    </tr>\n",
       "    <tr>\n",
       "      <th>3</th>\n",
       "      <td>The competitive atmosphere around me, and the ...</td>\n",
       "      <td>The competitive atmosphere around me and the n...</td>\n",
       "      <td>[The, competitive, atmosphere, around, me, and...</td>\n",
       "      <td>[(competitive, a), (atmosphere, n), (around, N...</td>\n",
       "      <td>competitive atmosphere around need top succeed</td>\n",
       "      <td>0.500000</td>\n",
       "      <td>0.500000</td>\n",
       "      <td>Positive</td>\n",
       "    </tr>\n",
       "    <tr>\n",
       "      <th>4</th>\n",
       "      <td>Less medical seats</td>\n",
       "      <td>Less medical seats</td>\n",
       "      <td>[Less, medical, seat]</td>\n",
       "      <td>[(Less, n), (medical, a), (seat, n)]</td>\n",
       "      <td>Less medical seat</td>\n",
       "      <td>0.033333</td>\n",
       "      <td>-0.083333</td>\n",
       "      <td>Negative</td>\n",
       "    </tr>\n",
       "  </tbody>\n",
       "</table>\n",
       "</div>"
      ],
      "text/plain": [
       "  What are the factors or circumstances that influenced you to change your preference?   \\\n",
       "0  I felt that, I can do courses later, or come u...                                      \n",
       "1                      More employment opportunities                                      \n",
       "2                                 Brutal competition                                      \n",
       "3  The competitive atmosphere around me, and the ...                                      \n",
       "4                                 Less medical seats                                      \n",
       "\n",
       "                                     Cleaned Reviews  \\\n",
       "0  I felt that I can do courses later or come up ...   \n",
       "1                      More employment opportunities   \n",
       "2                                 Brutal competition   \n",
       "3  The competitive atmosphere around me and the n...   \n",
       "4                                 Less medical seats   \n",
       "\n",
       "                                          POS tagged  \\\n",
       "0  [I, felt, that, I, can, do, course, later, or,...   \n",
       "1                    [More, employment, opportunity]   \n",
       "2                              [Brutal, competition]   \n",
       "3  [The, competitive, atmosphere, around, me, and...   \n",
       "4                              [Less, medical, seat]   \n",
       "\n",
       "                                        POS stopword  \\\n",
       "0  [(felt, v), (course, n), (later, r), (come, v)...   \n",
       "1                [(employment, n), (opportunity, n)]   \n",
       "2                    [(Brutal, a), (competition, n)]   \n",
       "3  [(competitive, a), (atmosphere, n), (around, N...   \n",
       "4               [(Less, n), (medical, a), (seat, n)]   \n",
       "\n",
       "                                               Lemma  TextBlob_Subjectivity  \\\n",
       "0    felt course later come theory Mathematics ta...               0.000000   \n",
       "1                             employment opportunity               0.000000   \n",
       "2                                 Brutal competition               1.000000   \n",
       "3     competitive atmosphere around need top succeed               0.500000   \n",
       "4                                  Less medical seat               0.033333   \n",
       "\n",
       "   TextBlob_Polarity TextBlob_Analysis  \n",
       "0           0.000000           Neutral  \n",
       "1           0.000000           Neutral  \n",
       "2          -0.875000          Negative  \n",
       "3           0.500000          Positive  \n",
       "4          -0.083333          Negative  "
      ]
     },
     "execution_count": 14,
     "metadata": {},
     "output_type": "execute_result"
    }
   ],
   "source": [
    "def getSubjectivity(text):\n",
    "    return TextBlob(text).sentiment.subjectivity \n",
    " #Create a function to get the polarity\n",
    "def getPolarity(text):\n",
    "    return TextBlob(text).sentiment.polarity\n",
    "   #Create two new columns ‘Subjectivity’ & ‘Polarity’\n",
    "df2['TextBlob_Subjectivity'] =  df2['Lemma'].dropna().apply(getSubjectivity)\n",
    "df2['TextBlob_Polarity'] = df2['Lemma'].dropna().apply(getPolarity)\n",
    "def getAnalysis(score):\n",
    "    if score < 0:\n",
    "        return 'Negative'\n",
    "    elif score == 0:\n",
    "        return 'Neutral'\n",
    "    else:\n",
    "        return 'Positive'\n",
    "df2['TextBlob_Analysis'] = df2['TextBlob_Polarity'].dropna().apply(getAnalysis )\n",
    "df2.head() "
   ]
  },
  {
   "cell_type": "code",
   "execution_count": 15,
   "id": "52641e4d",
   "metadata": {},
   "outputs": [
    {
     "name": "stdout",
     "output_type": "stream",
     "text": [
      "Neutral     108\n",
      "Positive     12\n",
      "Negative      8\n",
      "Name: TextBlob_Analysis, dtype: int64\n"
     ]
    }
   ],
   "source": [
    "tb_counts=df2['TextBlob_Analysis'].value_counts()\n",
    "print(tb_counts)"
   ]
  },
  {
   "cell_type": "code",
   "execution_count": 16,
   "id": "d7996a77",
   "metadata": {},
   "outputs": [
    {
     "data": {
      "image/png": "[encoded data removed]",
      "text/plain": [
       "<Figure size 432x288 with 1 Axes>"
      ]
     },
     "metadata": {},
     "output_type": "display_data"
    }
   ],
   "source": [
    "plt.pie(tb_counts)\n",
    "plt.legend(['Neutral','positive','negative'])\n",
    "plt.show()"
   ]
  },
  {
   "cell_type": "code",
   "execution_count": 17,
   "id": "2548b2aa",
   "metadata": {},
   "outputs": [
    {
     "name": "stdout",
     "output_type": "stream",
     "text": [
      "  What are the factors or circumstances that influenced you to change your preference?   \\\n",
      "0  I felt that, I can do courses later, or come u...                                      \n",
      "1                      More employment opportunities                                      \n",
      "2                                 Brutal competition                                      \n",
      "3  The competitive atmosphere around me, and the ...                                      \n",
      "4                                 Less medical seats                                      \n",
      "\n",
      "                                     Cleaned Reviews  \\\n",
      "0  I felt that I can do courses later or come up ...   \n",
      "1                      More employment opportunities   \n",
      "2                                 Brutal competition   \n",
      "3  The competitive atmosphere around me and the n...   \n",
      "4                                 Less medical seats   \n",
      "\n",
      "                                          POS tagged  \\\n",
      "0  [I, felt, that, I, can, do, course, later, or,...   \n",
      "1                    [More, employment, opportunity]   \n",
      "2                              [Brutal, competition]   \n",
      "3  [The, competitive, atmosphere, around, me, and...   \n",
      "4                              [Less, medical, seat]   \n",
      "\n",
      "                                        POS stopword  \\\n",
      "0  [(felt, v), (course, n), (later, r), (come, v)...   \n",
      "1                [(employment, n), (opportunity, n)]   \n",
      "2                    [(Brutal, a), (competition, n)]   \n",
      "3  [(competitive, a), (atmosphere, n), (around, N...   \n",
      "4               [(Less, n), (medical, a), (seat, n)]   \n",
      "\n",
      "                                               Lemma  TextBlob_Subjectivity  \\\n",
      "0    felt course later come theory Mathematics ta...               0.000000   \n",
      "1                             employment opportunity               0.000000   \n",
      "2                                 Brutal competition               1.000000   \n",
      "3     competitive atmosphere around need top succeed               0.500000   \n",
      "4                                  Less medical seat               0.033333   \n",
      "\n",
      "   TextBlob_Polarity TextBlob_Analysis  \n",
      "0           0.000000           Neutral  \n",
      "1           0.000000           Neutral  \n",
      "2          -0.875000          Negative  \n",
      "3           0.500000          Positive  \n",
      "4          -0.083333          Negative  \n"
     ]
    }
   ],
   "source": [
    "df3=df2.copy()\n",
    "print(df3.head())"
   ]
  },
  {
   "cell_type": "code",
   "execution_count": 18,
   "id": "a45cf3f8",
   "metadata": {},
   "outputs": [
    {
     "name": "stdout",
     "output_type": "stream",
     "text": [
      "Requirement already satisfied: vaderSentiment in c:\\users\\anupa\\anaconda3\\lib\\site-packages (3.3.2)\n",
      "Requirement already satisfied: requests in c:\\users\\anupa\\anaconda3\\lib\\site-packages (from vaderSentiment) (2.25.1)\n",
      "Requirement already satisfied: chardet<5,>=3.0.2 in c:\\users\\anupa\\anaconda3\\lib\\site-packages (from requests->vaderSentiment) (4.0.0)\n",
      "Requirement already satisfied: urllib3<1.27,>=1.21.1 in c:\\users\\anupa\\anaconda3\\lib\\site-packages (from requests->vaderSentiment) (1.26.4)\n",
      "Requirement already satisfied: idna<3,>=2.5 in c:\\users\\anupa\\anaconda3\\lib\\site-packages (from requests->vaderSentiment) (2.10)\n",
      "Requirement already satisfied: certifi>=2017.4.17 in c:\\users\\anupa\\anaconda3\\lib\\site-packages (from requests->vaderSentiment) (2020.12.5)\n",
      "Note: you may need to restart the kernel to use updated packages.\n"
     ]
    }
   ],
   "source": [
    "pip install vaderSentiment"
   ]
  },
  {
   "cell_type": "code",
   "execution_count": 19,
   "id": "7bd32fa3",
   "metadata": {},
   "outputs": [
    {
     "data": {
      "text/html": [
       "<div>\n",
       "<style scoped>\n",
       "    .dataframe tbody tr th:only-of-type {\n",
       "        vertical-align: middle;\n",
       "    }\n",
       "\n",
       "    .dataframe tbody tr th {\n",
       "        vertical-align: top;\n",
       "    }\n",
       "\n",
       "    .dataframe thead th {\n",
       "        text-align: right;\n",
       "    }\n",
       "</style>\n",
       "<table border=\"1\" class=\"dataframe\">\n",
       "  <thead>\n",
       "    <tr style=\"text-align: right;\">\n",
       "      <th></th>\n",
       "      <th>What are the factors or circumstances that influenced you to change your preference?</th>\n",
       "      <th>Cleaned Reviews</th>\n",
       "      <th>POS tagged</th>\n",
       "      <th>POS stopword</th>\n",
       "      <th>Lemma</th>\n",
       "      <th>TextBlob_Subjectivity</th>\n",
       "      <th>TextBlob_Polarity</th>\n",
       "      <th>TextBlob_Analysis</th>\n",
       "      <th>Vader Sentiment</th>\n",
       "      <th>Vader Analysis</th>\n",
       "    </tr>\n",
       "  </thead>\n",
       "  <tbody>\n",
       "    <tr>\n",
       "      <th>0</th>\n",
       "      <td>I felt that, I can do courses later, or come u...</td>\n",
       "      <td>I felt that I can do courses later or come up ...</td>\n",
       "      <td>[I, felt, that, I, can, do, course, later, or,...</td>\n",
       "      <td>[(felt, v), (course, n), (later, r), (come, v)...</td>\n",
       "      <td>felt course later come theory Mathematics ta...</td>\n",
       "      <td>0.000000</td>\n",
       "      <td>0.000000</td>\n",
       "      <td>Neutral</td>\n",
       "      <td>0.0000</td>\n",
       "      <td>Neutral</td>\n",
       "    </tr>\n",
       "    <tr>\n",
       "      <th>1</th>\n",
       "      <td>More employment opportunities</td>\n",
       "      <td>More employment opportunities</td>\n",
       "      <td>[More, employment, opportunity]</td>\n",
       "      <td>[(employment, n), (opportunity, n)]</td>\n",
       "      <td>employment opportunity</td>\n",
       "      <td>0.000000</td>\n",
       "      <td>0.000000</td>\n",
       "      <td>Neutral</td>\n",
       "      <td>0.4215</td>\n",
       "      <td>Neutral</td>\n",
       "    </tr>\n",
       "    <tr>\n",
       "      <th>2</th>\n",
       "      <td>Brutal competition</td>\n",
       "      <td>Brutal competition</td>\n",
       "      <td>[Brutal, competition]</td>\n",
       "      <td>[(Brutal, a), (competition, n)]</td>\n",
       "      <td>Brutal competition</td>\n",
       "      <td>1.000000</td>\n",
       "      <td>-0.875000</td>\n",
       "      <td>Negative</td>\n",
       "      <td>-0.6249</td>\n",
       "      <td>Negative</td>\n",
       "    </tr>\n",
       "    <tr>\n",
       "      <th>3</th>\n",
       "      <td>The competitive atmosphere around me, and the ...</td>\n",
       "      <td>The competitive atmosphere around me and the n...</td>\n",
       "      <td>[The, competitive, atmosphere, around, me, and...</td>\n",
       "      <td>[(competitive, a), (atmosphere, n), (around, N...</td>\n",
       "      <td>competitive atmosphere around need top succeed</td>\n",
       "      <td>0.500000</td>\n",
       "      <td>0.500000</td>\n",
       "      <td>Positive</td>\n",
       "      <td>0.6908</td>\n",
       "      <td>Positive</td>\n",
       "    </tr>\n",
       "    <tr>\n",
       "      <th>4</th>\n",
       "      <td>Less medical seats</td>\n",
       "      <td>Less medical seats</td>\n",
       "      <td>[Less, medical, seat]</td>\n",
       "      <td>[(Less, n), (medical, a), (seat, n)]</td>\n",
       "      <td>Less medical seat</td>\n",
       "      <td>0.033333</td>\n",
       "      <td>-0.083333</td>\n",
       "      <td>Negative</td>\n",
       "      <td>0.0000</td>\n",
       "      <td>Neutral</td>\n",
       "    </tr>\n",
       "  </tbody>\n",
       "</table>\n",
       "</div>"
      ],
      "text/plain": [
       "  What are the factors or circumstances that influenced you to change your preference?   \\\n",
       "0  I felt that, I can do courses later, or come u...                                      \n",
       "1                      More employment opportunities                                      \n",
       "2                                 Brutal competition                                      \n",
       "3  The competitive atmosphere around me, and the ...                                      \n",
       "4                                 Less medical seats                                      \n",
       "\n",
       "                                     Cleaned Reviews  \\\n",
       "0  I felt that I can do courses later or come up ...   \n",
       "1                      More employment opportunities   \n",
       "2                                 Brutal competition   \n",
       "3  The competitive atmosphere around me and the n...   \n",
       "4                                 Less medical seats   \n",
       "\n",
       "                                          POS tagged  \\\n",
       "0  [I, felt, that, I, can, do, course, later, or,...   \n",
       "1                    [More, employment, opportunity]   \n",
       "2                              [Brutal, competition]   \n",
       "3  [The, competitive, atmosphere, around, me, and...   \n",
       "4                              [Less, medical, seat]   \n",
       "\n",
       "                                        POS stopword  \\\n",
       "0  [(felt, v), (course, n), (later, r), (come, v)...   \n",
       "1                [(employment, n), (opportunity, n)]   \n",
       "2                    [(Brutal, a), (competition, n)]   \n",
       "3  [(competitive, a), (atmosphere, n), (around, N...   \n",
       "4               [(Less, n), (medical, a), (seat, n)]   \n",
       "\n",
       "                                               Lemma  TextBlob_Subjectivity  \\\n",
       "0    felt course later come theory Mathematics ta...               0.000000   \n",
       "1                             employment opportunity               0.000000   \n",
       "2                                 Brutal competition               1.000000   \n",
       "3     competitive atmosphere around need top succeed               0.500000   \n",
       "4                                  Less medical seat               0.033333   \n",
       "\n",
       "   TextBlob_Polarity TextBlob_Analysis  Vader Sentiment Vader Analysis  \n",
       "0           0.000000           Neutral           0.0000        Neutral  \n",
       "1           0.000000           Neutral           0.4215        Neutral  \n",
       "2          -0.875000          Negative          -0.6249       Negative  \n",
       "3           0.500000          Positive           0.6908       Positive  \n",
       "4          -0.083333          Negative           0.0000        Neutral  "
      ]
     },
     "execution_count": 19,
     "metadata": {},
     "output_type": "execute_result"
    }
   ],
   "source": [
    "from vaderSentiment.vaderSentiment import SentimentIntensityAnalyzer\n",
    "analyzer = SentimentIntensityAnalyzer()\n",
    "# function to calculate vader sentiment\n",
    "def vadersentimentanalysis(review):\n",
    "    vs = analyzer.polarity_scores(review)\n",
    "    return vs['compound']\n",
    "df3['Vader Sentiment'] = df3['Lemma'].dropna().apply(vadersentimentanalysis)\n",
    "# function to analyse\n",
    "def vader_analysis(compound):\n",
    "    if compound >= 0.5:\n",
    "        return 'Positive'\n",
    "    elif compound <= -0.5 :\n",
    "        return 'Negative'\n",
    "    else:\n",
    "        return 'Neutral'\n",
    "df3['Vader Analysis'] = df3['Vader Sentiment'].apply(vader_analysis)\n",
    "df3.head()"
   ]
  },
  {
   "cell_type": "code",
   "execution_count": 20,
   "id": "8f550fa8",
   "metadata": {},
   "outputs": [
    {
     "data": {
      "text/plain": [
       "Neutral     139\n",
       "Positive      6\n",
       "Negative      1\n",
       "Name: Vader Analysis, dtype: int64"
      ]
     },
     "execution_count": 20,
     "metadata": {},
     "output_type": "execute_result"
    }
   ],
   "source": [
    "vader_counts = df3['Vader Analysis'].value_counts()\n",
    "vader_counts"
   ]
  },
  {
   "cell_type": "code",
   "execution_count": 21,
   "id": "b756e88d",
   "metadata": {},
   "outputs": [
    {
     "name": "stderr",
     "output_type": "stream",
     "text": [
      "[nltk_data] Downloading package sentiwordnet to\n",
      "[nltk_data]     C:\\Users\\anupa\\AppData\\Roaming\\nltk_data...\n",
      "[nltk_data]   Package sentiwordnet is already up-to-date!\n"
     ]
    }
   ],
   "source": [
    "nltk.download('sentiwordnet')\n",
    "from nltk.corpus import sentiwordnet as swn\n",
    "def sentiwordnetanalysis(pos_data):\n",
    "    sentiment = 0\n",
    "    tokens_count = 0\n",
    "    for word, pos in pos_data:\n",
    "        if not pos:\n",
    "            continue\n",
    "        lemma = wordnet_lemmatizer.lemmatize(word, pos=pos)\n",
    "        if not lemma:\n",
    "            continue\n",
    "        synsets = wordnet.synsets(lemma, pos=pos)\n",
    "        if not synsets:\n",
    "            continue\n",
    "            # Take the first sense, the most common\n",
    "        synset = synsets[0]\n",
    "        swn_synset = swn.senti_synset(synset.name())\n",
    "        sentiment += swn_synset.pos_score() - swn_synset.neg_score()\n",
    "        tokens_count += 1\n",
    "        print(swn_synset.pos_score(),swn_synset.neg_score(),swn_synset.obj_score())\n",
    "        if not tokens_count:\n",
    "            return 0\n",
    "        if sentiment>0:\n",
    "            return \"Positive\"\n",
    "        if sentiment==0:\n",
    "            return \"Neutral\"\n",
    "        else:\n",
    "            return \"Negative\"\n"
   ]
  },
  {
   "cell_type": "code",
   "execution_count": 22,
   "id": "e183e6e5",
   "metadata": {},
   "outputs": [
    {
     "name": "stdout",
     "output_type": "stream",
     "text": [
      "0.0 0.0 1.0\n",
      "0.0 0.0 1.0\n",
      "0.0 0.625 0.375\n",
      "0.0 0.0 1.0\n",
      "0.125 0.375 0.5\n",
      "0.0 0.0 1.0\n",
      "0.0 0.0 1.0\n",
      "0.0 0.625 0.375\n",
      "0.0 0.0 1.0\n",
      "0.125 0.0 0.875\n",
      "0.0 0.25 0.75\n",
      "0.125 0.125 0.75\n",
      "0.0 0.0 1.0\n",
      "0.0 0.0 1.0\n",
      "0.25 0.25 0.5\n",
      "0.0 0.375 0.625\n",
      "0.0 0.0 1.0\n",
      "0.25 0.25 0.5\n",
      "0.0 0.0 1.0\n",
      "0.25 0.25 0.5\n",
      "0.0 0.0 1.0\n",
      "0.25 0.25 0.5\n",
      "0.125 0.0 0.875\n",
      "0.0 0.0 1.0\n",
      "0.0 0.0 1.0\n",
      "0.0 0.0 1.0\n",
      "0.0 0.0 1.0\n",
      "0.125 0.125 0.75\n",
      "0.0 0.0 1.0\n",
      "0.0 0.0 1.0\n",
      "0.5 0.0 0.5\n",
      "0.0 0.0 1.0\n",
      "0.0 0.0 1.0\n",
      "0.0 0.0 1.0\n",
      "0.0 0.375 0.625\n",
      "0.0 0.0 1.0\n",
      "0.5 0.0 0.5\n",
      "0.25 0.25 0.5\n",
      "0.0 0.0 1.0\n",
      "0.0 0.0 1.0\n",
      "0.875 0.0 0.125\n",
      "0.0 0.0 1.0\n",
      "0.0 0.0 1.0\n",
      "0.375 0.0 0.625\n",
      "0.125 0.0 0.875\n",
      "0.25 0.25 0.5\n",
      "0.0 0.0 1.0\n",
      "0.0 0.0 1.0\n",
      "0.0 0.0 1.0\n",
      "0.0 0.0 1.0\n",
      "0.375 0.0 0.625\n",
      "0.25 0.25 0.5\n",
      "0.0 0.0 1.0\n",
      "0.0 0.0 1.0\n",
      "0.0 0.0 1.0\n",
      "0.0 0.0 1.0\n",
      "0.0 0.0 1.0\n",
      "0.0 0.0 1.0\n",
      "0.0 0.0 1.0\n",
      "0.0 0.0 1.0\n",
      "0.75 0.0 0.25\n",
      "0.0 0.5 0.5\n",
      "0.0 0.0 1.0\n",
      "0.25 0.25 0.5\n",
      "0.0 0.0 1.0\n",
      "0.0 0.0 1.0\n",
      "0.0 0.0 1.0\n",
      "0.0 0.0 1.0\n",
      "0.125 0.0 0.875\n",
      "0.25 0.25 0.5\n",
      "0.0 0.0 1.0\n",
      "0.0 0.0 1.0\n",
      "0.25 0.25 0.5\n",
      "0.0 0.0 1.0\n",
      "0.25 0.0 0.75\n",
      "0.0 0.0 1.0\n",
      "0.25 0.625 0.125\n",
      "0.25 0.25 0.5\n",
      "0.0 0.0 1.0\n",
      "0.0 0.0 1.0\n",
      "0.0 0.0 1.0\n",
      "0.25 0.0 0.75\n",
      "0.25 0.25 0.5\n",
      "0.0 0.375 0.625\n",
      "0.0 0.0 1.0\n",
      "0.0 0.0 1.0\n",
      "0.25 0.25 0.5\n",
      "0.125 0.0 0.875\n",
      "0.125 0.25 0.625\n",
      "0.0 0.0 1.0\n",
      "0.0 0.0 1.0\n",
      "0.0 0.0 1.0\n",
      "0.0 0.0 1.0\n",
      "0.25 0.25 0.5\n",
      "0.0 0.125 0.875\n",
      "0.0 0.0 1.0\n",
      "0.0 0.0 1.0\n",
      "0.0 0.0 1.0\n",
      "0.0 0.0 1.0\n",
      "0.125 0.0 0.875\n",
      "0.25 0.25 0.5\n",
      "0.25 0.25 0.5\n",
      "0.0 0.0 1.0\n",
      "0.0 0.0 1.0\n",
      "0.25 0.25 0.5\n",
      "0.0 0.0 1.0\n",
      "0.0 0.0 1.0\n",
      "0.25 0.25 0.5\n",
      "0.0 0.0 1.0\n",
      "0.25 0.25 0.5\n",
      "0.0 0.0 1.0\n",
      "0.0 0.0 1.0\n"
     ]
    }
   ],
   "source": [
    "df3['SWN analysis'] = df3['POS stopword'].dropna().apply(sentiwordnetanalysis)"
   ]
  },
  {
   "cell_type": "code",
   "execution_count": 23,
   "id": "7273d22e",
   "metadata": {},
   "outputs": [
    {
     "data": {
      "text/plain": [
       "Neutral     87\n",
       "Positive    14\n",
       "Negative    11\n",
       "Name: SWN analysis, dtype: int64"
      ]
     },
     "execution_count": 23,
     "metadata": {},
     "output_type": "execute_result"
    }
   ],
   "source": [
    "swn_counts= df3['SWN analysis'].value_counts()\n",
    "swn_counts"
   ]
  },
  {
   "cell_type": "code",
   "execution_count": 24,
   "id": "152a7500",
   "metadata": {},
   "outputs": [
    {
     "data": {
      "image/png": "[encoded data removed]",
      "text/plain": [
       "<Figure size 1080x504 with 3 Axes>"
      ]
     },
     "metadata": {},
     "output_type": "display_data"
    }
   ],
   "source": [
    "import matplotlib.pyplot as plt\n",
    "%matplotlib inline\n",
    "plt.figure(figsize=(15,7))\n",
    "plt.subplot(1,3,1)\n",
    "plt.title(\"TextBlob results\")\n",
    "plt.pie(tb_counts.values, labels = tb_counts.index, explode = (0, 0, 0.25), autopct='%1.1f%%', shadow=False)\n",
    "plt.subplot(1,3,2)\n",
    "plt.title(\"VADER results\")\n",
    "plt.pie(vader_counts.values, labels = vader_counts.index, explode = (0,0, 0.25), autopct='%1.1f%%', shadow=False)\n",
    "plt.subplot(1,3,3)\n",
    "plt.title(\"SentiWordNet results\")\n",
    "plt.pie(swn_counts.values, labels = swn_counts.index, explode = (0, 0, 0.25), autopct='%1.1f%%', shadow=False)\n",
    "plt.show()"
   ]
  }
 ],
 "metadata": {
  "kernelspec": {
   "display_name": "Python 3",
   "language": "python",
   "name": "python3"
  },
  "language_info": {
   "codemirror_mode": {
    "name": "ipython",
    "version": 3
   },
   "file_extension": ".py",
   "mimetype": "text/x-python",
   "name": "python",
   "nbconvert_exporter": "python",
   "pygments_lexer": "ipython3",
   "version": "3.8.8"
  }
 },
 "nbformat": 4,
 "nbformat_minor": 5
}
